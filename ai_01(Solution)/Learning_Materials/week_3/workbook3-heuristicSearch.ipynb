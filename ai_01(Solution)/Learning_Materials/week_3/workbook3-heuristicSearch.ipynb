{
 "cells": [
  {
   "cell_type": "markdown",
   "metadata": {
    "pycharm": {
     "name": "#%% md\n"
    }
   },
   "source": [
    "# Workbook 3: Informed Search Algorithms\n",
    "\n",
    "## Introduction\n",
    "This practical uses a simple easy-to-visualise optimisation problem to illustrate the properties of different search algorithms.\n",
    "The problem is this:\n",
    "- We are given  a model of a problem in terms of a graph  - which we can visualise as a maze.\n",
    "- We are given a starting position and the desired endpoint (goal)\n",
    "- The problem is to find a sequence of inputs that takes us from the start to the goal, preferably in as few moves as possible.\n",
    "\n",
    "## Aims of this practical\n",
    "1. To give you the opportunity to demonstrate your understanding by implementing the code needed to create different search algorithms.\n",
    "2. To give you experience of comparing the behaviour of different search algorithms.\n",
    "3. To give you experience of evaluating the efficiency of an algorithm for a problem ( in this case path-planning) by creating different instances of a problem (mazes) to *stress-test* different methods. \n",
    "\n",
    "\n",
    "<div class=\"alert alert-block alert-danger\" style=\"color:black\">\n",
    "    <h2> This is an assessed practical</h2>\n",
    "    When you are satisfied that you have completed the activities as required you should:\n",
    "    <ol>\n",
    "        <li> Save your notebooks and download them to your local machine.</li>\n",
    "        <li> Submit them for automatic marking and feedback <ul>\n",
    "            <li>by following the links in the <i>Assessments</i> folder on Blackboard.</li>\n",
    "            <li> This may invovle answering some multiple choices questions s well a submitting your code.</li>\n",
    "            </ul>\n",
    "        <li> <b>Read the feedback provided</b> and use it to improve your work.<br>\n",
    "            You will have four attemtps to submit each notebook.</li>\n",
    "    </ol></div>\n",
    " \n",
    "   "
   ]
  },
  {
   "cell_type": "markdown",
   "metadata": {
    "pycharm": {
     "name": "#%% md\n"
    }
   },
   "source": [
    "## Background\n",
    "\n",
    "As discussed in the lectures, we consider a general generate-and-test framwework for search that can be easily:\n",
    "- adapted to provide algorithms with different behaviours\n",
    "- applied to many different problems.\n",
    "This is illustrated in the flowchart below.\n",
    "\n",
    "<img src = \"figures/generate-and-test-framework.png\">\n",
    "\n",
    "In this week's lecture presentation ( available in the notebook **W3_Inforned_Search_Algorithms.ipynb**)\n",
    "we discussed how to create different algorithms, with different behaviours, just by adapting the function **select_and_move_from_openlist()**.\n",
    "\n",
    "In last week's lab session you should have:\n",
    "1. Got familiar with a general implementation framework we provided with classes for:\n",
    "  - **SingleMemberSearch**\n",
    "  - **Problem**\n",
    "  - **CandidateSolution**\n",
    "2. Created your own search subclasses **DepthfirstSearch** and **BreadthFirstSearch** \n",
    "  - by over-riding the function **select_and_move_from_openlist()**\n",
    "3. Applied those algorithms to two sublasses of problem: **CombinationLock** and **FoxChickenGrain**\n",
    "\n",
    "\n",
    "## This week\n",
    "You will extend that work to:\n",
    "1. Create your own implementations of the algorithms **LocalSearch**, **BestFirstSearch**, and **AStarSearch**\n",
    "2. Test their behaviour on a simple maze problem \n",
    "   because it is easy to visualise, and  many search graphs can be represented as  mazes.\n",
    "3. **Test your understanding** by making mazes that *break* different algorithms."
   ]
  },
  {
   "cell_type": "markdown",
   "metadata": {
    "pycharm": {
     "name": "#%% md\n"
    }
   },
   "source": [
    "<div style=\"color:black;background:#AFE1AF\">\n",
    " <h2>Refresher: finding things in a list with python according to some criteria</h2>\n",
    "    <h3> You can skip reading this box if you are comfortable with how to do this</h3>\n",
    "    <ul>\n",
    "        <li> A python list (let's call it <i>my_list</i>) holds a collection of objects, usually of the same type. </li>\n",
    "        <li> If you have a list <i>my_list</i> with n elements, then <i>len(myList) = n</i> </li>\n",
    "    <li> This is true whether the elements are chars, ints, float, or objects of some class</li>\n",
    "    </ul>\n",
    "    <p> If  <i>my_list</i> holds elements (objects) of a type that has an attribute <i>cost</i>, and we want to find the index (position) of the element one with the lowest value, we do it with a loop. Start in position 0, then loop through every thing in the list one by one, looking at the value of <i>cost</i>each element, remembering the position (index) of the one with the lowest <i>cost</i>.</p>\n",
    "    <p> In code this looks like:</p>\n",
    "    <pre lang=\"python\" style=\"background:#F1F1F1\">    \n",
    "   best_index = 0\n",
    "   <span style=\"color:green\">for</span> i <span style=\"color:green\">in range</span> (<span style=\"color:green\">len</span> (my_list) ):    <span style=\"color:blue\"># for historical reasons we often use i as the name of a loop variable </span>\n",
    "       <span style=\"color:green\">if</span> my_list[i].cost < my_list[best_index].cost : \n",
    "           best_index = i\n",
    "   </pre>\n",
    "\n",
    "<p> So at the end of this process the variable best_index tells us the index of the \"best\" element in that list according to our choice criteria (minimising cost).\n",
    "<ul>\n",
    "<li>If we want to use something else as our criteria, we just change the if statement.</li>\n",
    "<li>Sometimes you might choose to store the value <i> best_so_far = my_list[best_index].cost</i> <br>\n",
    "and use that in the comparison (line 3 above) to make your code more readable (shorter lines)<br>\n",
    "- you just need to update <i>best_so_far</i> as well as <i>best_index</i> inside the <b>if</b> statement.</li>\n",
    "</ul>\n",
    "So this different version of the code does the same thing but you may find it easier to read.\n",
    "<pre lang=\"python\" style=\"background:#F1F1F1\">\n",
    "    best_index = 0\n",
    "    best_so_far = my_list[0].cost\n",
    "    <span style=\"color:green\">for</span> index <span style=\"color:green\">in range</span> (len (my_list) ): \n",
    "        this_cost= my_list[index].cost\n",
    "        <span style=\"color:green\">if</span> this_cost < best_so_far: \n",
    "            best_index = index\n",
    "            best_so_far = this_cost\n",
    "</pre>\n",
    "</div>\n",
    "                                       \n",
    "                                       \n",
    "                                       "
   ]
  },
  {
   "cell_type": "markdown",
   "metadata": {
    "pycharm": {
     "name": "#%% md\n"
    }
   },
   "source": [
    ".\n",
    "\n",
    ".\n",
    "\n",
    ".\n",
    "\n",
    ".\n",
    "."
   ]
  },
  {
   "cell_type": "markdown",
   "metadata": {
    "pycharm": {
     "name": "#%% md\n"
    }
   },
   "source": [
    "# Part One: Familiarising yourself with the code framework\n",
    "From last week you should be familiar with the basic classes in our framework:\n",
    "- **Problem()**\n",
    "- **CandidateSolution**\n",
    "- **SingleMemberSearch**\n",
    "\n",
    "and you should have created two subclasses:\n",
    "- **DepthFirstSearch**\n",
    "- **BreadthFirstSearch**\n",
    "\n",
    "**If you have not done worksheet 2, go back and do that first**\n",
    "- Otherwise you will probably waste a lot of time.\n",
    "\n",
    "If you want to look at the maze code it is in the file *maze.py*  \n",
    "- it's a little complex, mostly to do with translating a lot between:\n",
    "  - one-d arrays (cells have single index) and \n",
    "  - 2-d arrays (cells referenced by row  and column co-ordinates)\n",
    "- so you may prefer to focus on your code implementation of different algorithms\n",
    "The file *maze.txt* provides a definition for **one specific** maze instance. "
   ]
  },
  {
   "cell_type": "markdown",
   "metadata": {
    "pycharm": {
     "name": "#%% md\n"
    }
   },
   "source": [
    "<div class=\"alert alert-block alert-warning\" style=\"color:black\">\n",
    "    <h1>Activity: Testing your Depth-first and Breadth-First Search code on the maze</h1>\n",
    "    <h2>30 marks</h2>.\n",
    "    Take the steps below to run and test your code from last week on the maze problems.<ol>\n",
    "        <li> Run the first cell below to import the Maze Class</li>\n",
    "        <li> <b><i>Optionally</i></b> run the second cell below to see the help from the class' docstrings.</li>\n",
    "        <li> Run the third cell to define a method that will run an algorithm on the maze</li>\n",
    "    <li> Copy-paste your class code for <b>DepthFirstSearch</b> from workbook2 into the fourth cell below.<br>\n",
    "            Then run that cell so you can see if your code solves the maze.<br>\n",
    "             If there are errors fix them before you proceed.</li>\n",
    "    <li> Copy-paste your class code for <b>BreadthFirstSearch</b> from workbook2 into the fifth cell below.<br>\n",
    "            Then run that cell so you see if your code solves the maze.<br>\n",
    "             If there are errors fix them before you proceed.</li>\n",
    "        <li> Run cell six which defines tests for your code, then seven and eight which runs them for your two classes.<ul>\n",
    "             <li>Make sure you understand what the code is doing. </li>\n",
    "            <li>The values for number of trials and length of path come from my reference implementation.</li>\n",
    "            <li> <b>Your code should solve the maze</b> and produce the same values.</li>\n",
    "            </ul>\n",
    "    </ol>\n",
    "    <p>If your code passed the tests for the <b>CombinationLock</b> problem last week it should work fine.<br>\n",
    "        If not:</p><ul>\n",
    "    <li>Edit your code in the cells below</li>\n",
    "    <li> <b> Important</b> the __str__() method must return the same string as I use in cell 6 below</li>\n",
    "    <li>Rerun those cells to tell python to use the edited versions.</li>\n",
    "    <li> Then rerun the test cells as necessary</li>\n",
    "    <li> You can turn on printing of the runlog in the test cells if it helps you debug your code.</li>\n",
    "    </ul>\n",
    "</div>\n",
    "\n",
    "<div class=\"alert alert-block alert-warning\" style=\"color:black\">\n",
    "    <h2> If you find the screen flickering disturbing</h2>\n",
    "    <b> Apologies!</b>\n",
    "       There is a trade-off between how long to pause after each move which affects the time taken to do a run, and how likely the screen is to flicker.  It can be hard to judge that with a distributed server.\n",
    "    <ul>\n",
    "        <li>open the file <i>maze.py</i> in the jupyter editor. </li>\n",
    "        <li> increase the default value of <i>refresh_rate</i> on line 94</li>\n",
    "        <li>rerun the first cell below to reload the Maze class</li></ul>\n",
    " </div>"
   ]
  },
  {
   "cell_type": "code",
   "execution_count": 35,
   "metadata": {
    "pycharm": {
     "name": "#%%\n"
    },
    "tags": []
   },
   "outputs": [],
   "source": [
    "# Cell 1\n",
    "# you MUST run this cell\n",
    "\n",
    "from importlib import reload\n",
    "\n",
    "# the libraries writtten for this course\n",
    "from singlemembersearch import SingleMemberSearch\n",
    "\n",
    "# doing it this way lets you edit maze without retstating the kernel\n",
    "import maze\n",
    "\n",
    "reload(maze)\n",
    "from maze import Maze"
   ]
  },
  {
   "cell_type": "code",
   "execution_count": 36,
   "metadata": {
    "pycharm": {
     "name": "#%%\n"
    },
    "tags": []
   },
   "outputs": [
    {
     "name": "stdout",
     "output_type": "stream",
     "text": [
      "Help on class Maze in module maze:\n",
      "\n",
      "class Maze(problem.Problem)\n",
      " |  Maze(mazefile: str)\n",
      " |  \n",
      " |  Class definition for a rectangular maze problem.\n",
      " |  \n",
      " |  Method resolution order:\n",
      " |      Maze\n",
      " |      problem.Problem\n",
      " |      builtins.object\n",
      " |  \n",
      " |  Methods defined here:\n",
      " |  \n",
      " |  __init__(self, mazefile: str)\n",
      " |      Constructor.\n",
      " |      \n",
      " |      Parameter\n",
      " |      ---------\n",
      " |      mazefile(str)\n",
      " |         name of the file holding the maze definition\n",
      " |  \n",
      " |  cellid_to_coords(self, cellid: int) -> tuple[int, int]\n",
      " |      Converts an index back to coordinates.\n",
      " |      \n",
      " |      Parameters\n",
      " |      ----------\n",
      " |      cellid(int)\n",
      " |          index\n",
      " |      \n",
      " |      Returns\n",
      " |      -------\n",
      " |      tuple(x coordinate,y coordianate)\n",
      " |  \n",
      " |  colour_cell_from_id(self, cellid: int, colour: float)\n",
      " |      Assigns colour to cell in rectangular representation of maze.\n",
      " |      \n",
      " |      Parameters\n",
      " |      ----------\n",
      " |      cellid(int)\n",
      " |           index in list representation\n",
      " |      colour (float)\n",
      " |  \n",
      " |  coords_to_cellid(self, x, y) -> int\n",
      " |      Converts a goal location into a single integer index.\n",
      " |      \n",
      " |      Parameters\n",
      " |      ----------\n",
      " |      x,y (integers)\n",
      " |      \n",
      " |      Returns\n",
      " |      -------\n",
      " |      cell_id (int)\n",
      " |  \n",
      " |  evaluate(self, solution: list) -> tuple[int, str]\n",
      " |      Method to give feedback on the value of a candidate solution.\n",
      " |      \n",
      " |      Parameters\n",
      " |      ----------\n",
      " |      solution (list)\n",
      " |          the current attempt being tested\n",
      " |          Represented as a path of coordinates\n",
      " |      \n",
      " |      Returns\n",
      " |      -------\n",
      " |      int\n",
      " |          the quality with -1 for invalid\n",
      " |      string\n",
      " |          the reason why a solution is invalid\n",
      " |  \n",
      " |  is_at_goal(self, solution: list) -> bool\n",
      " |      Says is a solution is at the maze goal.\n",
      " |      \n",
      " |      Parameters\n",
      " |      ----------\n",
      " |      solution : List\n",
      " |          the current attempt being tested\n",
      " |          Represented as a path of coordinates\n",
      " |  \n",
      " |  load_from_txt(self, filename)\n",
      " |      Performs the actual file read.\n",
      " |  \n",
      " |  save_to_txt(self, filename: str)\n",
      " |      Write to file as 0s and 1s.\n",
      " |      \n",
      " |      Parameters\n",
      " |      ----------\n",
      " |      filename(str) name of file to write to\n",
      " |  \n",
      " |  set_goal(self, x, y)\n",
      " |      Cnverts a goal location into a single integer index.\n",
      " |      \n",
      " |      Parameters\n",
      " |      ----------\n",
      " |      x,y (integers)\n",
      " |  \n",
      " |  set_start(self, x, y)\n",
      " |      Converts a starting location into a single integer index.\n",
      " |      \n",
      " |      Parameters\n",
      " |      ----------\n",
      " |      x,y (integers)\n",
      " |           coordinates on grid\n",
      " |  \n",
      " |  setup(self, mazefile: str = '', start: tuple = (0, 0), end: tuple = (10, 10))\n",
      " |      Load a maze from a given filename.\n",
      " |      \n",
      " |      Parameters\n",
      " |      ----------\n",
      " |      mazefile(str)\n",
      " |          name of file gholding definition\n",
      " |      start(tuple(int,int))\n",
      " |           coordinates of starting position\n",
      " |       end (tuple(int,int))\n",
      " |           coordinates of ending position (goal)\n",
      " |  \n",
      " |  show_maze(self, cmap='Set1')\n",
      " |      Prints out a maze.\n",
      " |  \n",
      " |  show_path(self, solution: list, refresh_rate: float = 0.01)\n",
      " |      Shows the path through a maze taken by a given solution\n",
      " |      and also the current open list.\n",
      " |  \n",
      " |  ----------------------------------------------------------------------\n",
      " |  Data descriptors inherited from problem.Problem:\n",
      " |  \n",
      " |  __dict__\n",
      " |      dictionary for instance variables (if defined)\n",
      " |  \n",
      " |  __weakref__\n",
      " |      list of weak references to the object (if defined)\n",
      "\n"
     ]
    }
   ],
   "source": [
    "# Cell 2\n",
    "# Running this cell gives you a list of class methods and what they do\n",
    "help(Maze)"
   ]
  },
  {
   "cell_type": "code",
   "execution_count": 37,
   "metadata": {
    "pycharm": {
     "name": "#%%\n"
    },
    "tags": []
   },
   "outputs": [],
   "source": [
    "# Cell 3\n",
    "def run_on_maze(\n",
    "    algorithm: SingleMemberSearch, show_runlog: bool = False, mazefile: str = \"maze.txt\"\n",
    ") -> tuple[int, int]:\n",
    "    mymaze = Maze(mazefile=\"maze.txt\")\n",
    "    mysearch = algorithm(mymaze, constructive=True, max_attempts=1500)\n",
    "    name = mysearch.__str__()\n",
    "    trials = -1\n",
    "    moves = -1\n",
    "    found = mysearch.run_search()\n",
    "    if found:\n",
    "        trials = mysearch.trials\n",
    "        moves = len(mysearch.result)\n",
    "        print(\n",
    "            f\"search using {mysearch.__str__()} algorithm successful after {trials} attempts\"\n",
    "            f\" length of path is {moves} moves.\"\n",
    "        )\n",
    "    else:\n",
    "        print(\"solution not found in time allowed\")\n",
    "        if show_runlog:\n",
    "            print(mysearch.runlog)\n",
    "\n",
    "    del mymaze\n",
    "    return trials, moves, name"
   ]
  },
  {
   "cell_type": "code",
   "execution_count": 38,
   "metadata": {
    "pycharm": {
     "name": "#%%\n"
    },
    "tags": []
   },
   "outputs": [
    {
     "data": {
      "image/png": "[encoded data removed]",
      "text/plain": [
       "<Figure size 500x500 with 1 Axes>"
      ]
     },
     "metadata": {},
     "output_type": "display_data"
    },
    {
     "name": "stdout",
     "output_type": "stream",
     "text": [
      "search using depth-first algorithm successful after 408 attempts length of path is 77 moves.\n"
     ]
    },
    {
     "data": {
      "text/plain": [
       "(408, 77, 'depth-first')"
      ]
     },
     "execution_count": 38,
     "metadata": {},
     "output_type": "execute_result"
    }
   ],
   "source": [
    "# Cell 4\n",
    "# Copy-paste your class code for DepthFirstSearch from last week to here\n",
    "import copy\n",
    "import importlib\n",
    "\n",
    "from problem import Problem\n",
    "from candidatesolution import CandidateSolution\n",
    "from singlemembersearch import SingleMemberSearch\n",
    "\n",
    "\n",
    "class DepthFirstSearch(SingleMemberSearch):\n",
    "    \"\"\"your implementation of depth first search to extend\n",
    "    the superclass SingleMemberSearch search.\n",
    "    Adds  a __str__method\n",
    "    Over-rides the method select_and_move_from_openlist\n",
    "    to implement the algorithm\n",
    "    \"\"\"\n",
    "\n",
    "    def __str__(self):\n",
    "        return \"depth-first\"\n",
    "\n",
    "    def select_and_move_from_openlist(self) -> CandidateSolution:\n",
    "        \"\"\"void in superclass\n",
    "        In sub-classes should implement different algorithms\n",
    "        depending on what item it picks from open_list\n",
    "        and what it then does to the open list\n",
    "\n",
    "        Returns\n",
    "        -------\n",
    "        next working candidate (solution) taken from open list\n",
    "        \"\"\"\n",
    "        next_soln = CandidateSolution()\n",
    "        # =======>> INSERT YOUR PSEUDO-CODE and your code below <<====\n",
    "        # print(\"Length: \", self.open_list[0].print_values())\n",
    "        my_index = len(self.open_list) - 1\n",
    "        next_soln = self.open_list.pop(my_index)\n",
    "        return next_soln\n",
    "\n",
    "run_on_maze(DepthFirstSearch)"
   ]
  },
  {
   "cell_type": "code",
   "execution_count": 39,
   "metadata": {
    "pycharm": {
     "name": "#%%\n"
    },
    "tags": []
   },
   "outputs": [
    {
     "data": {
      "image/png": "[encoded data removed]",
      "text/plain": [
       "<Figure size 500x500 with 1 Axes>"
      ]
     },
     "metadata": {},
     "output_type": "display_data"
    },
    {
     "name": "stdout",
     "output_type": "stream",
     "text": [
      "search using breadth-first algorithm successful after 1068 attempts length of path is 57 moves.\n"
     ]
    },
    {
     "data": {
      "text/plain": [
       "(1068, 57, 'breadth-first')"
      ]
     },
     "execution_count": 39,
     "metadata": {},
     "output_type": "execute_result"
    }
   ],
   "source": [
    "# Cell 5\n",
    "# Copy-paste your class code for BreadthFirstSearch from last week to here\n",
    "import copy\n",
    "import importlib\n",
    "\n",
    "from problem import Problem\n",
    "from candidatesolution import CandidateSolution\n",
    "from singlemembersearch import SingleMemberSearch\n",
    "\n",
    "\n",
    "class BreadthFirstSearch(SingleMemberSearch):\n",
    "    \"\"\"your implementation of depth first search to extend\n",
    "    the superclass SingleMemberSearch search.\n",
    "    Adds  a __str__method\n",
    "    Over-rides the method select_and_move_from_openlist\n",
    "    to implement the algorithm\n",
    "    \"\"\"\n",
    "\n",
    "    def __str__(self):\n",
    "        return \"breadth-first\"\n",
    "\n",
    "    def select_and_move_from_openlist(self) -> CandidateSolution:\n",
    "        \"\"\"void in superclass\n",
    "        In sub-classes should implement different algorithms\n",
    "        depending on what item it picks from open_list\n",
    "        and what it then does to the open list\n",
    "\n",
    "        Returns\n",
    "        -------\n",
    "        next working candidate (solution) taken from open list\n",
    "        \"\"\"\n",
    "        next_soln = CandidateSolution()\n",
    "        # =======>> INSERT YOUR PSEUDO-CODE and your code below <<====\n",
    "        # print(\"Length: \", self.open_list[0].print_values())\n",
    "        my_index = 0\n",
    "        next_soln = self.open_list.pop(my_index)\n",
    "        return next_soln\n",
    "\n",
    "run_on_maze(BreadthFirstSearch)"
   ]
  },
  {
   "cell_type": "code",
   "execution_count": 40,
   "metadata": {
    "pycharm": {
     "name": "#%%\n"
    },
    "tags": []
   },
   "outputs": [],
   "source": [
    "# Cell 6 general test code with my results in\n",
    "\n",
    "jims_results: dict = {\n",
    "    \"depth-first\": [408, 77],\n",
    "    \"breadth-first\": [1068, 57],\n",
    "    \"local search\": [-1, -1],\n",
    "    \"best-first\": [856, 57],\n",
    "    \"A Star\": [812, 57],\n",
    "}\n",
    "\n",
    "\n",
    "def test_on_maze(algorithm: SingleMemberSearch, mazefile=\"maze.txt\"):\n",
    "    trials, moves, name = run_on_maze(algorithm, mazefile)\n",
    "    correct_trials, correct_moves = jims_results[name]\n",
    "\n",
    "    print(f\"testing algorithm {name} on the simple maze.\")\n",
    "    if trials == -1 or moves == -1:\n",
    "        errstr1 = \"Error, the test suggests your code is not reaching the goal\"\n",
    "        errstr2 = \"Error, the test suggests your code is not reaching the goal\"\n",
    "\n",
    "    else:\n",
    "        errstr1 = (\n",
    "            f\"Error: your code is using {trials} trials \"\n",
    "            f\" but should only need {correct_trials}.\\n\"\n",
    "        )\n",
    "        errstr2 = (\n",
    "            f\"Error: your code finds a solution with {moves} \"\n",
    "            f\" but should only need {correct_moves}.\\n\"\n",
    "        )\n",
    "    assert trials == correct_trials, errstr1\n",
    "    assert moves == correct_moves, errstr2\n",
    "    print(\"test passed\")"
   ]
  },
  {
   "cell_type": "code",
   "execution_count": 48,
   "metadata": {
    "pycharm": {
     "name": "#%%\n"
    },
    "tags": []
   },
   "outputs": [
    {
     "data": {
      "image/png": "[encoded data removed]",
      "text/plain": [
       "<Figure size 500x500 with 1 Axes>"
      ]
     },
     "metadata": {},
     "output_type": "display_data"
    },
    {
     "name": "stdout",
     "output_type": "stream",
     "text": [
      "search using depth-first algorithm successful after 408 attempts length of path is 77 moves.\n",
      "testing algorithm depth-first on the simple maze.\n",
      "test passed\n"
     ]
    }
   ],
   "source": [
    "# Cell 7 test depth-first\n",
    "\n",
    "\n",
    "print(\"Testing Depth-First Search\")\n",
    "test_on_maze(DepthFirstSearch)"
   ]
  },
  {
   "cell_type": "code",
   "execution_count": 42,
   "metadata": {
    "pycharm": {
     "name": "#%%\n"
    },
    "tags": []
   },
   "outputs": [
    {
     "data": {
      "image/png": "[encoded data removed]",
      "text/plain": [
       "<Figure size 500x500 with 1 Axes>"
      ]
     },
     "metadata": {},
     "output_type": "display_data"
    },
    {
     "name": "stdout",
     "output_type": "stream",
     "text": [
      "search using breadth-first algorithm successful after 1068 attempts length of path is 57 moves.\n",
      "testing algorithm breadth-first on the simple maze.\n",
      "test passed\n"
     ]
    }
   ],
   "source": [
    "# run this cell to test your breath-first implementation\n",
    "\n",
    "\n",
    "print(\"Testing Breadth-First Search\")\n",
    "test_on_maze(BreadthFirstSearch)"
   ]
  },
  {
   "cell_type": "code",
   "execution_count": null,
   "metadata": {
    "pycharm": {
     "name": "#%%\n"
    }
   },
   "outputs": [],
   "source": []
  },
  {
   "cell_type": "markdown",
   "metadata": {
    "pycharm": {
     "name": "#%% md\n"
    }
   },
   "source": [
    "<div class = \"alert alert-warning\" style=\"color:black\">\n",
    "    <h1> Activity Two: Implementing Best-First and A Star Search</h1>\n",
    "    <h2> 40 Marks</h2>\n",
    "    <p> For these two algorithms the cells below provide the pseudo-code, a partially completed implementation, and a test.</p> <p>This activity requires you to complete the code to produce classes which implement the algorithms, using the pseudocode as your guide.</p>\n",
    "        <p> You are strongly advised to proceed by:</p> <ol>\n",
    "        <li> Copying the pseudo-code into an appropriate place in the class code</li>\n",
    "        <li> Turning the pseudo-code into comments with spaces between for your code</li> \n",
    "        <li> Your code should start by checking whether the open list is empty <ul>\n",
    "            <li>  return None if open list is empty</li>\n",
    "            <li> Otherwise select and return the appropriate item from the openlist </li>\n",
    "            </ul>\n",
    "    <li> Then answer the multiple choice questions to check your understanding</li>\n",
    "        </ol>\n",
    "        <h3>Hints:</h3><ul>\n",
    "               <li> Use the reminder at the start of this workbook for how to select from a list by value</li>\n",
    "<li> Remember that each instance of the  class defines an attribute <i> self.open_list</i> </li>\n",
    "       <li>  Everything on that list should be of type <b>CandidateSolution</b> <br>\n",
    "           and have attributes <i> quality</i> and <i>variable_values</i>.</li>\n",
    "        <li> For any list <i>mylist</i> you can query how many things it holds via <i>len(mylist)</i></li>\n",
    "        </ul>\n",
    "    </div>"
   ]
  },
  {
   "cell_type": "markdown",
   "metadata": {
    "pycharm": {
     "name": "#%% md\n"
    }
   },
   "source": [
    "## Pseudocode for function SelectAndMoveFromOpenList in Best-First Search\n",
    "\n",
    "<div style=\"background:#F0FFFF\">\n",
    "<p style=\"color:darkredmargin-bottom:0pt\"><em>SelectAndMoveFromOpenList</em></p>\n",
    "<dl style=\"margin-top:0pt\">\n",
    "    <dt>&nbsp;&nbsp;&nbsp;<b>IF</b> IsEmpty( open_list) <b>THEN</b> </dt>\n",
    "    <dd> RETURN None</dd>\n",
    "    <dt> &nbsp;&nbsp;&nbsp;<b>ELSE</b></dt>\n",
    "    <dd>bestChild &larr; <b>GetMemberWithHighestQuality</b>(openList)</dd>\n",
    "    <dd> RETURN bestChild&nbsp;&nbsp;&nbsp;&nbsp;<span style=\"background:pink\">Best-First keeps the openlist to allow backtracking</span></dd>\n",
    "</dl>\n",
    "</div>   "
   ]
  },
  {
   "cell_type": "code",
   "execution_count": 82,
   "metadata": {
    "pycharm": {
     "name": "#%%\n"
    }
   },
   "outputs": [],
   "source": [
    "class BestFirstSearch(SingleMemberSearch):\n",
    "    \"\"\"Implementation of Best-First   search.\n",
    "    You need to complete this\n",
    "    \"\"\"\n",
    "\n",
    "    def __str__(self):\n",
    "        return \"best-first\"\n",
    "\n",
    "    def select_and_move_from_openlist(self) -> CandidateSolution:\n",
    "        \"\"\"Implements Best First by finding, popping and returning member from openlist\n",
    "        with best quality.\n",
    "\n",
    "        Returns\n",
    "        -------\n",
    "        next working candidate (solution) taken from open list\n",
    "        \"\"\"\n",
    "        next_soln = CandidateSolution()\n",
    "        # ====> Your Code here <========\n",
    "        # Start by copy in pseudo-code\n",
    "        # then code to it\n",
    "        # mske sure you have read the specifications and hints above\n",
    "        next_soln = self.open_list[0]\n",
    "        if len(self.open_list) == 0:\n",
    "            return None\n",
    "        else:\n",
    "            for i in range(len(self.open_list)):\n",
    "                if self.open_list[i].quality > next_soln.quality:\n",
    "                    next_soln = self.open_list.pop(i)\n",
    "        return next_soln"
   ]
  },
  {
   "cell_type": "code",
   "execution_count": 111,
   "metadata": {},
   "outputs": [],
   "source": [
    "class BestFirstSearch(SingleMemberSearch):\n",
    "    \"\"\"Implementation of Best-First   search.\n",
    "    You need to complete this\n",
    "    \"\"\"\n",
    "\n",
    "    def __str__(self):\n",
    "        return \"best-first\"\n",
    "\n",
    "    def select_and_move_from_openlist(self) -> CandidateSolution:\n",
    "        \"\"\"Implements Best First by finding, popping and returning member from openlist\n",
    "        with best quality.\n",
    "\n",
    "        Returns\n",
    "        -------\n",
    "        next working candidate (solution) taken from open list\n",
    "        \"\"\"\n",
    "        next_soln = CandidateSolution()\n",
    "        # ====> Your Code here <========\n",
    "        # Start by copy in pseudo-code\n",
    "        # then code to it\n",
    "        # mske sure you have read the specifications and hints above\n",
    "        if len(self.open_list) == 0:\n",
    "            return None\n",
    "        else:\n",
    "            for i in range(len(self.open_list)):\n",
    "                if self.open_list[i].quality > next_soln.quality:\n",
    "                    next_soln = self.open_list[i]\n",
    "                    self.open_list.remove(next_soln)\n",
    "                print(next_soln.print_values())\n",
    "                return next_soln"
   ]
  },
  {
   "cell_type": "code",
   "execution_count": 118,
   "metadata": {},
   "outputs": [],
   "source": [
    "class BestFirstSearch(SingleMemberSearch):\n",
    "    \"\"\"Implementation of Best-First   search.\n",
    "    You need to complete this\n",
    "    \"\"\"\n",
    "\n",
    "    def __str__(self):\n",
    "        return \"best-first\"\n",
    "\n",
    "    def select_and_move_from_openlist(self) -> CandidateSolution:\n",
    "        \"\"\"Implements Best First by finding, popping and returning member from openlist\n",
    "        with best quality.\n",
    "\n",
    "        Returns\n",
    "        -------\n",
    "        next working candidate (solution) taken from open list\n",
    "        \"\"\"\n",
    "        \n",
    "        # ====> Your Code here <========\n",
    "        # Start by copy in pseudo-code\n",
    "        # then code to it\n",
    "        # mske sure you have read the specifications and hints above\n",
    "        next_soln = CandidateSolution()\n",
    "        if len(self.open_list) == 0:\n",
    "                    return None\n",
    "        else:\n",
    "                    next_soln = max(self.open_list, key=lambda x: x.quality)\n",
    "                    #self.open_list.remove(next_soln)  \n",
    "                    print(self.open_list)\n",
    "                    \n",
    "        return next_soln"
   ]
  },
  {
   "cell_type": "code",
   "execution_count": 119,
   "metadata": {
    "pycharm": {
     "name": "#%%\n"
    },
    "tags": []
   },
   "outputs": [
    {
     "ename": "KeyboardInterrupt",
     "evalue": "",
     "output_type": "error",
     "traceback": [
      "\u001b[1;31m---------------------------------------------------------------------------\u001b[0m",
      "\u001b[1;31mAttributeError\u001b[0m                            Traceback (most recent call last)",
      "File \u001b[1;32mc:\\Users\\admin\\anaconda3\\Lib\\site-packages\\PIL\\ImageFile.py:536\u001b[0m, in \u001b[0;36m_save\u001b[1;34m(im, fp, tile, bufsize)\u001b[0m\n\u001b[0;32m    535\u001b[0m \u001b[38;5;28;01mtry\u001b[39;00m:\n\u001b[1;32m--> 536\u001b[0m     fh \u001b[38;5;241m=\u001b[39m fp\u001b[38;5;241m.\u001b[39mfileno()\n\u001b[0;32m    537\u001b[0m     fp\u001b[38;5;241m.\u001b[39mflush()\n",
      "\u001b[1;31mAttributeError\u001b[0m: '_idat' object has no attribute 'fileno'",
      "\nDuring handling of the above exception, another exception occurred:\n",
      "\u001b[1;31mKeyboardInterrupt\u001b[0m                         Traceback (most recent call last)",
      "Cell \u001b[1;32mIn[119], line 3\u001b[0m\n\u001b[0;32m      1\u001b[0m \u001b[38;5;66;03m# run this to test your implementation\u001b[39;00m\n\u001b[0;32m      2\u001b[0m \u001b[38;5;28mprint\u001b[39m(\u001b[38;5;124m\"\u001b[39m\u001b[38;5;124mTesting Best-First Search\u001b[39m\u001b[38;5;124m\"\u001b[39m)\n\u001b[1;32m----> 3\u001b[0m test_on_maze(BestFirstSearch)\n",
      "Cell \u001b[1;32mIn[40], line 13\u001b[0m, in \u001b[0;36mtest_on_maze\u001b[1;34m(algorithm, mazefile)\u001b[0m\n\u001b[0;32m     12\u001b[0m \u001b[38;5;28;01mdef\u001b[39;00m \u001b[38;5;21mtest_on_maze\u001b[39m(algorithm: SingleMemberSearch, mazefile\u001b[38;5;241m=\u001b[39m\u001b[38;5;124m\"\u001b[39m\u001b[38;5;124mmaze.txt\u001b[39m\u001b[38;5;124m\"\u001b[39m):\n\u001b[1;32m---> 13\u001b[0m     trials, moves, name \u001b[38;5;241m=\u001b[39m run_on_maze(algorithm, mazefile)\n\u001b[0;32m     14\u001b[0m     correct_trials, correct_moves \u001b[38;5;241m=\u001b[39m jims_results[name]\n\u001b[0;32m     16\u001b[0m     \u001b[38;5;28mprint\u001b[39m(\u001b[38;5;124mf\u001b[39m\u001b[38;5;124m\"\u001b[39m\u001b[38;5;124mtesting algorithm \u001b[39m\u001b[38;5;132;01m{\u001b[39;00mname\u001b[38;5;132;01m}\u001b[39;00m\u001b[38;5;124m on the simple maze.\u001b[39m\u001b[38;5;124m\"\u001b[39m)\n",
      "Cell \u001b[1;32mIn[37], line 10\u001b[0m, in \u001b[0;36mrun_on_maze\u001b[1;34m(algorithm, show_runlog, mazefile)\u001b[0m\n\u001b[0;32m      8\u001b[0m trials \u001b[38;5;241m=\u001b[39m \u001b[38;5;241m-\u001b[39m\u001b[38;5;241m1\u001b[39m\n\u001b[0;32m      9\u001b[0m moves \u001b[38;5;241m=\u001b[39m \u001b[38;5;241m-\u001b[39m\u001b[38;5;241m1\u001b[39m\n\u001b[1;32m---> 10\u001b[0m found \u001b[38;5;241m=\u001b[39m mysearch\u001b[38;5;241m.\u001b[39mrun_search()\n\u001b[0;32m     11\u001b[0m \u001b[38;5;28;01mif\u001b[39;00m found:\n\u001b[0;32m     12\u001b[0m     trials \u001b[38;5;241m=\u001b[39m mysearch\u001b[38;5;241m.\u001b[39mtrials\n",
      "File \u001b[1;32mc:\\Users\\admin\\Desktop\\UWE\\Artificial Intelligence\\ai_01\\Learning_Materials\\week_3\\singlemembersearch.py:197\u001b[0m, in \u001b[0;36mSingleMemberSearch.run_search\u001b[1;34m(self)\u001b[0m\n\u001b[0;32m    193\u001b[0m         \u001b[38;5;28;01mcontinue\u001b[39;00m\n\u001b[0;32m    195\u001b[0m \u001b[38;5;66;03m# === TEST === #\u001b[39;00m\n\u001b[0;32m    196\u001b[0m \u001b[38;5;66;03m# PS status ← Test ( neighbour)       Problem-specific code\u001b[39;00m\n\u001b[1;32m--> 197\u001b[0m neighbour\u001b[38;5;241m.\u001b[39mquality, neighbour\u001b[38;5;241m.\u001b[39mreason \u001b[38;5;241m=\u001b[39m \u001b[38;5;28mself\u001b[39m\u001b[38;5;241m.\u001b[39mproblem\u001b[38;5;241m.\u001b[39mevaluate(\n\u001b[0;32m    198\u001b[0m     neighbour\u001b[38;5;241m.\u001b[39mvariable_values\n\u001b[0;32m    199\u001b[0m )\n\u001b[0;32m    200\u001b[0m \u001b[38;5;28mself\u001b[39m\u001b[38;5;241m.\u001b[39mtrials \u001b[38;5;241m+\u001b[39m\u001b[38;5;241m=\u001b[39m \u001b[38;5;241m1\u001b[39m\n\u001b[0;32m    202\u001b[0m \u001b[38;5;66;03m# === UPDATE WORKING MEMORY === #\u001b[39;00m\n",
      "File \u001b[1;32mc:\\Users\\admin\\Desktop\\UWE\\Artificial Intelligence\\ai_01\\Learning_Materials\\week_3\\maze.py:286\u001b[0m, in \u001b[0;36mMaze.evaluate\u001b[1;34m(self, solution)\u001b[0m\n\u001b[0;32m    283\u001b[0m     manhattan_distance \u001b[38;5;241m=\u001b[39m np\u001b[38;5;241m.\u001b[39mabs(xnew \u001b[38;5;241m-\u001b[39m x2) \u001b[38;5;241m+\u001b[39m np\u001b[38;5;241m.\u001b[39mabs(ynew \u001b[38;5;241m-\u001b[39m y2)\n\u001b[0;32m    285\u001b[0m     quality \u001b[38;5;241m=\u001b[39m manhattan_distance\n\u001b[1;32m--> 286\u001b[0m     \u001b[38;5;28mself\u001b[39m\u001b[38;5;241m.\u001b[39mshow_path(path)\n\u001b[0;32m    287\u001b[0m     \u001b[38;5;66;03m# print(f'solution {solution} decodes to {path}\\n'\u001b[39;00m\n\u001b[0;32m    288\u001b[0m     \u001b[38;5;66;03m#      f'  score is {quality} because{reason}'\u001b[39;00m\n\u001b[0;32m    289\u001b[0m     \u001b[38;5;66;03m#      )\u001b[39;00m\n\u001b[0;32m    290\u001b[0m \u001b[38;5;28;01mreturn\u001b[39;00m quality, reason\n",
      "File \u001b[1;32mc:\\Users\\admin\\Desktop\\UWE\\Artificial Intelligence\\ai_01\\Learning_Materials\\week_3\\maze.py:151\u001b[0m, in \u001b[0;36mMaze.show_path\u001b[1;34m(self, solution, refresh_rate)\u001b[0m\n\u001b[0;32m    149\u001b[0m plt\u001b[38;5;241m.\u001b[39maxis(\u001b[38;5;124m\"\u001b[39m\u001b[38;5;124moff\u001b[39m\u001b[38;5;124m\"\u001b[39m)\n\u001b[0;32m    150\u001b[0m plt\u001b[38;5;241m.\u001b[39mimshow(\u001b[38;5;28mself\u001b[39m\u001b[38;5;241m.\u001b[39mcontents, cmap\u001b[38;5;241m=\u001b[39m\u001b[38;5;124m\"\u001b[39m\u001b[38;5;124mSet1\u001b[39m\u001b[38;5;124m\"\u001b[39m)\n\u001b[1;32m--> 151\u001b[0m plt\u001b[38;5;241m.\u001b[39mshow()\n",
      "File \u001b[1;32mc:\\Users\\admin\\anaconda3\\Lib\\site-packages\\matplotlib\\pyplot.py:446\u001b[0m, in \u001b[0;36mshow\u001b[1;34m(*args, **kwargs)\u001b[0m\n\u001b[0;32m    402\u001b[0m \u001b[38;5;250m\u001b[39m\u001b[38;5;124;03m\"\"\"\u001b[39;00m\n\u001b[0;32m    403\u001b[0m \u001b[38;5;124;03mDisplay all open figures.\u001b[39;00m\n\u001b[0;32m    404\u001b[0m \n\u001b[1;32m   (...)\u001b[0m\n\u001b[0;32m    443\u001b[0m \u001b[38;5;124;03mexplicitly there.\u001b[39;00m\n\u001b[0;32m    444\u001b[0m \u001b[38;5;124;03m\"\"\"\u001b[39;00m\n\u001b[0;32m    445\u001b[0m _warn_if_gui_out_of_main_thread()\n\u001b[1;32m--> 446\u001b[0m \u001b[38;5;28;01mreturn\u001b[39;00m _get_backend_mod()\u001b[38;5;241m.\u001b[39mshow(\u001b[38;5;241m*\u001b[39margs, \u001b[38;5;241m*\u001b[39m\u001b[38;5;241m*\u001b[39mkwargs)\n",
      "File \u001b[1;32mc:\\Users\\admin\\anaconda3\\Lib\\site-packages\\matplotlib_inline\\backend_inline.py:90\u001b[0m, in \u001b[0;36mshow\u001b[1;34m(close, block)\u001b[0m\n\u001b[0;32m     88\u001b[0m \u001b[38;5;28;01mtry\u001b[39;00m:\n\u001b[0;32m     89\u001b[0m     \u001b[38;5;28;01mfor\u001b[39;00m figure_manager \u001b[38;5;129;01min\u001b[39;00m Gcf\u001b[38;5;241m.\u001b[39mget_all_fig_managers():\n\u001b[1;32m---> 90\u001b[0m         display(\n\u001b[0;32m     91\u001b[0m             figure_manager\u001b[38;5;241m.\u001b[39mcanvas\u001b[38;5;241m.\u001b[39mfigure,\n\u001b[0;32m     92\u001b[0m             metadata\u001b[38;5;241m=\u001b[39m_fetch_figure_metadata(figure_manager\u001b[38;5;241m.\u001b[39mcanvas\u001b[38;5;241m.\u001b[39mfigure)\n\u001b[0;32m     93\u001b[0m         )\n\u001b[0;32m     94\u001b[0m \u001b[38;5;28;01mfinally\u001b[39;00m:\n\u001b[0;32m     95\u001b[0m     show\u001b[38;5;241m.\u001b[39m_to_draw \u001b[38;5;241m=\u001b[39m []\n",
      "File \u001b[1;32mc:\\Users\\admin\\anaconda3\\Lib\\site-packages\\IPython\\core\\display_functions.py:298\u001b[0m, in \u001b[0;36mdisplay\u001b[1;34m(include, exclude, metadata, transient, display_id, raw, clear, *objs, **kwargs)\u001b[0m\n\u001b[0;32m    296\u001b[0m     publish_display_data(data\u001b[38;5;241m=\u001b[39mobj, metadata\u001b[38;5;241m=\u001b[39mmetadata, \u001b[38;5;241m*\u001b[39m\u001b[38;5;241m*\u001b[39mkwargs)\n\u001b[0;32m    297\u001b[0m \u001b[38;5;28;01melse\u001b[39;00m:\n\u001b[1;32m--> 298\u001b[0m     format_dict, md_dict \u001b[38;5;241m=\u001b[39m \u001b[38;5;28mformat\u001b[39m(obj, include\u001b[38;5;241m=\u001b[39minclude, exclude\u001b[38;5;241m=\u001b[39mexclude)\n\u001b[0;32m    299\u001b[0m     \u001b[38;5;28;01mif\u001b[39;00m \u001b[38;5;129;01mnot\u001b[39;00m format_dict:\n\u001b[0;32m    300\u001b[0m         \u001b[38;5;66;03m# nothing to display (e.g. _ipython_display_ took over)\u001b[39;00m\n\u001b[0;32m    301\u001b[0m         \u001b[38;5;28;01mcontinue\u001b[39;00m\n",
      "File \u001b[1;32mc:\\Users\\admin\\anaconda3\\Lib\\site-packages\\IPython\\core\\formatters.py:179\u001b[0m, in \u001b[0;36mDisplayFormatter.format\u001b[1;34m(self, obj, include, exclude)\u001b[0m\n\u001b[0;32m    177\u001b[0m md \u001b[38;5;241m=\u001b[39m \u001b[38;5;28;01mNone\u001b[39;00m\n\u001b[0;32m    178\u001b[0m \u001b[38;5;28;01mtry\u001b[39;00m:\n\u001b[1;32m--> 179\u001b[0m     data \u001b[38;5;241m=\u001b[39m formatter(obj)\n\u001b[0;32m    180\u001b[0m \u001b[38;5;28;01mexcept\u001b[39;00m:\n\u001b[0;32m    181\u001b[0m     \u001b[38;5;66;03m# FIXME: log the exception\u001b[39;00m\n\u001b[0;32m    182\u001b[0m     \u001b[38;5;28;01mraise\u001b[39;00m\n",
      "File \u001b[1;32mc:\\Users\\admin\\anaconda3\\Lib\\site-packages\\decorator.py:232\u001b[0m, in \u001b[0;36mdecorate.<locals>.fun\u001b[1;34m(*args, **kw)\u001b[0m\n\u001b[0;32m    230\u001b[0m \u001b[38;5;28;01mif\u001b[39;00m \u001b[38;5;129;01mnot\u001b[39;00m kwsyntax:\n\u001b[0;32m    231\u001b[0m     args, kw \u001b[38;5;241m=\u001b[39m fix(args, kw, sig)\n\u001b[1;32m--> 232\u001b[0m \u001b[38;5;28;01mreturn\u001b[39;00m caller(func, \u001b[38;5;241m*\u001b[39m(extras \u001b[38;5;241m+\u001b[39m args), \u001b[38;5;241m*\u001b[39m\u001b[38;5;241m*\u001b[39mkw)\n",
      "File \u001b[1;32mc:\\Users\\admin\\anaconda3\\Lib\\site-packages\\IPython\\core\\formatters.py:223\u001b[0m, in \u001b[0;36mcatch_format_error\u001b[1;34m(method, self, *args, **kwargs)\u001b[0m\n\u001b[0;32m    221\u001b[0m \u001b[38;5;250m\u001b[39m\u001b[38;5;124;03m\"\"\"show traceback on failed format call\"\"\"\u001b[39;00m\n\u001b[0;32m    222\u001b[0m \u001b[38;5;28;01mtry\u001b[39;00m:\n\u001b[1;32m--> 223\u001b[0m     r \u001b[38;5;241m=\u001b[39m method(\u001b[38;5;28mself\u001b[39m, \u001b[38;5;241m*\u001b[39margs, \u001b[38;5;241m*\u001b[39m\u001b[38;5;241m*\u001b[39mkwargs)\n\u001b[0;32m    224\u001b[0m \u001b[38;5;28;01mexcept\u001b[39;00m \u001b[38;5;167;01mNotImplementedError\u001b[39;00m:\n\u001b[0;32m    225\u001b[0m     \u001b[38;5;66;03m# don't warn on NotImplementedErrors\u001b[39;00m\n\u001b[0;32m    226\u001b[0m     \u001b[38;5;28;01mreturn\u001b[39;00m \u001b[38;5;28mself\u001b[39m\u001b[38;5;241m.\u001b[39m_check_return(\u001b[38;5;28;01mNone\u001b[39;00m, args[\u001b[38;5;241m0\u001b[39m])\n",
      "File \u001b[1;32mc:\\Users\\admin\\anaconda3\\Lib\\site-packages\\IPython\\core\\formatters.py:340\u001b[0m, in \u001b[0;36mBaseFormatter.__call__\u001b[1;34m(self, obj)\u001b[0m\n\u001b[0;32m    338\u001b[0m     \u001b[38;5;28;01mpass\u001b[39;00m\n\u001b[0;32m    339\u001b[0m \u001b[38;5;28;01melse\u001b[39;00m:\n\u001b[1;32m--> 340\u001b[0m     \u001b[38;5;28;01mreturn\u001b[39;00m printer(obj)\n\u001b[0;32m    341\u001b[0m \u001b[38;5;66;03m# Finally look for special method names\u001b[39;00m\n\u001b[0;32m    342\u001b[0m method \u001b[38;5;241m=\u001b[39m get_real_method(obj, \u001b[38;5;28mself\u001b[39m\u001b[38;5;241m.\u001b[39mprint_method)\n",
      "File \u001b[1;32mc:\\Users\\admin\\anaconda3\\Lib\\site-packages\\IPython\\core\\pylabtools.py:152\u001b[0m, in \u001b[0;36mprint_figure\u001b[1;34m(fig, fmt, bbox_inches, base64, **kwargs)\u001b[0m\n\u001b[0;32m    149\u001b[0m     \u001b[38;5;28;01mfrom\u001b[39;00m \u001b[38;5;21;01mmatplotlib\u001b[39;00m\u001b[38;5;21;01m.\u001b[39;00m\u001b[38;5;21;01mbackend_bases\u001b[39;00m \u001b[38;5;28;01mimport\u001b[39;00m FigureCanvasBase\n\u001b[0;32m    150\u001b[0m     FigureCanvasBase(fig)\n\u001b[1;32m--> 152\u001b[0m fig\u001b[38;5;241m.\u001b[39mcanvas\u001b[38;5;241m.\u001b[39mprint_figure(bytes_io, \u001b[38;5;241m*\u001b[39m\u001b[38;5;241m*\u001b[39mkw)\n\u001b[0;32m    153\u001b[0m data \u001b[38;5;241m=\u001b[39m bytes_io\u001b[38;5;241m.\u001b[39mgetvalue()\n\u001b[0;32m    154\u001b[0m \u001b[38;5;28;01mif\u001b[39;00m fmt \u001b[38;5;241m==\u001b[39m \u001b[38;5;124m'\u001b[39m\u001b[38;5;124msvg\u001b[39m\u001b[38;5;124m'\u001b[39m:\n",
      "File \u001b[1;32mc:\\Users\\admin\\anaconda3\\Lib\\site-packages\\matplotlib\\backend_bases.py:2366\u001b[0m, in \u001b[0;36mFigureCanvasBase.print_figure\u001b[1;34m(self, filename, dpi, facecolor, edgecolor, orientation, format, bbox_inches, pad_inches, bbox_extra_artists, backend, **kwargs)\u001b[0m\n\u001b[0;32m   2362\u001b[0m \u001b[38;5;28;01mtry\u001b[39;00m:\n\u001b[0;32m   2363\u001b[0m     \u001b[38;5;66;03m# _get_renderer may change the figure dpi (as vector formats\u001b[39;00m\n\u001b[0;32m   2364\u001b[0m     \u001b[38;5;66;03m# force the figure dpi to 72), so we need to set it again here.\u001b[39;00m\n\u001b[0;32m   2365\u001b[0m     \u001b[38;5;28;01mwith\u001b[39;00m cbook\u001b[38;5;241m.\u001b[39m_setattr_cm(\u001b[38;5;28mself\u001b[39m\u001b[38;5;241m.\u001b[39mfigure, dpi\u001b[38;5;241m=\u001b[39mdpi):\n\u001b[1;32m-> 2366\u001b[0m         result \u001b[38;5;241m=\u001b[39m print_method(\n\u001b[0;32m   2367\u001b[0m             filename,\n\u001b[0;32m   2368\u001b[0m             facecolor\u001b[38;5;241m=\u001b[39mfacecolor,\n\u001b[0;32m   2369\u001b[0m             edgecolor\u001b[38;5;241m=\u001b[39medgecolor,\n\u001b[0;32m   2370\u001b[0m             orientation\u001b[38;5;241m=\u001b[39morientation,\n\u001b[0;32m   2371\u001b[0m             bbox_inches_restore\u001b[38;5;241m=\u001b[39m_bbox_inches_restore,\n\u001b[0;32m   2372\u001b[0m             \u001b[38;5;241m*\u001b[39m\u001b[38;5;241m*\u001b[39mkwargs)\n\u001b[0;32m   2373\u001b[0m \u001b[38;5;28;01mfinally\u001b[39;00m:\n\u001b[0;32m   2374\u001b[0m     \u001b[38;5;28;01mif\u001b[39;00m bbox_inches \u001b[38;5;129;01mand\u001b[39;00m restore_bbox:\n",
      "File \u001b[1;32mc:\\Users\\admin\\anaconda3\\Lib\\site-packages\\matplotlib\\backend_bases.py:2232\u001b[0m, in \u001b[0;36mFigureCanvasBase._switch_canvas_and_return_print_method.<locals>.<lambda>\u001b[1;34m(*args, **kwargs)\u001b[0m\n\u001b[0;32m   2228\u001b[0m     optional_kws \u001b[38;5;241m=\u001b[39m {  \u001b[38;5;66;03m# Passed by print_figure for other renderers.\u001b[39;00m\n\u001b[0;32m   2229\u001b[0m         \u001b[38;5;124m\"\u001b[39m\u001b[38;5;124mdpi\u001b[39m\u001b[38;5;124m\"\u001b[39m, \u001b[38;5;124m\"\u001b[39m\u001b[38;5;124mfacecolor\u001b[39m\u001b[38;5;124m\"\u001b[39m, \u001b[38;5;124m\"\u001b[39m\u001b[38;5;124medgecolor\u001b[39m\u001b[38;5;124m\"\u001b[39m, \u001b[38;5;124m\"\u001b[39m\u001b[38;5;124morientation\u001b[39m\u001b[38;5;124m\"\u001b[39m,\n\u001b[0;32m   2230\u001b[0m         \u001b[38;5;124m\"\u001b[39m\u001b[38;5;124mbbox_inches_restore\u001b[39m\u001b[38;5;124m\"\u001b[39m}\n\u001b[0;32m   2231\u001b[0m     skip \u001b[38;5;241m=\u001b[39m optional_kws \u001b[38;5;241m-\u001b[39m {\u001b[38;5;241m*\u001b[39minspect\u001b[38;5;241m.\u001b[39msignature(meth)\u001b[38;5;241m.\u001b[39mparameters}\n\u001b[1;32m-> 2232\u001b[0m     print_method \u001b[38;5;241m=\u001b[39m functools\u001b[38;5;241m.\u001b[39mwraps(meth)(\u001b[38;5;28;01mlambda\u001b[39;00m \u001b[38;5;241m*\u001b[39margs, \u001b[38;5;241m*\u001b[39m\u001b[38;5;241m*\u001b[39mkwargs: meth(\n\u001b[0;32m   2233\u001b[0m         \u001b[38;5;241m*\u001b[39margs, \u001b[38;5;241m*\u001b[39m\u001b[38;5;241m*\u001b[39m{k: v \u001b[38;5;28;01mfor\u001b[39;00m k, v \u001b[38;5;129;01min\u001b[39;00m kwargs\u001b[38;5;241m.\u001b[39mitems() \u001b[38;5;28;01mif\u001b[39;00m k \u001b[38;5;129;01mnot\u001b[39;00m \u001b[38;5;129;01min\u001b[39;00m skip}))\n\u001b[0;32m   2234\u001b[0m \u001b[38;5;28;01melse\u001b[39;00m:  \u001b[38;5;66;03m# Let third-parties do as they see fit.\u001b[39;00m\n\u001b[0;32m   2235\u001b[0m     print_method \u001b[38;5;241m=\u001b[39m meth\n",
      "File \u001b[1;32mc:\\Users\\admin\\anaconda3\\Lib\\site-packages\\matplotlib\\backends\\backend_agg.py:509\u001b[0m, in \u001b[0;36mFigureCanvasAgg.print_png\u001b[1;34m(self, filename_or_obj, metadata, pil_kwargs)\u001b[0m\n\u001b[0;32m    462\u001b[0m \u001b[38;5;28;01mdef\u001b[39;00m \u001b[38;5;21mprint_png\u001b[39m(\u001b[38;5;28mself\u001b[39m, filename_or_obj, \u001b[38;5;241m*\u001b[39m, metadata\u001b[38;5;241m=\u001b[39m\u001b[38;5;28;01mNone\u001b[39;00m, pil_kwargs\u001b[38;5;241m=\u001b[39m\u001b[38;5;28;01mNone\u001b[39;00m):\n\u001b[0;32m    463\u001b[0m \u001b[38;5;250m    \u001b[39m\u001b[38;5;124;03m\"\"\"\u001b[39;00m\n\u001b[0;32m    464\u001b[0m \u001b[38;5;124;03m    Write the figure to a PNG file.\u001b[39;00m\n\u001b[0;32m    465\u001b[0m \n\u001b[1;32m   (...)\u001b[0m\n\u001b[0;32m    507\u001b[0m \u001b[38;5;124;03m        *metadata*, including the default 'Software' key.\u001b[39;00m\n\u001b[0;32m    508\u001b[0m \u001b[38;5;124;03m    \"\"\"\u001b[39;00m\n\u001b[1;32m--> 509\u001b[0m     \u001b[38;5;28mself\u001b[39m\u001b[38;5;241m.\u001b[39m_print_pil(filename_or_obj, \u001b[38;5;124m\"\u001b[39m\u001b[38;5;124mpng\u001b[39m\u001b[38;5;124m\"\u001b[39m, pil_kwargs, metadata)\n",
      "File \u001b[1;32mc:\\Users\\admin\\anaconda3\\Lib\\site-packages\\matplotlib\\backends\\backend_agg.py:458\u001b[0m, in \u001b[0;36mFigureCanvasAgg._print_pil\u001b[1;34m(self, filename_or_obj, fmt, pil_kwargs, metadata)\u001b[0m\n\u001b[0;32m    453\u001b[0m \u001b[38;5;250m\u001b[39m\u001b[38;5;124;03m\"\"\"\u001b[39;00m\n\u001b[0;32m    454\u001b[0m \u001b[38;5;124;03mDraw the canvas, then save it using `.image.imsave` (to which\u001b[39;00m\n\u001b[0;32m    455\u001b[0m \u001b[38;5;124;03m*pil_kwargs* and *metadata* are forwarded).\u001b[39;00m\n\u001b[0;32m    456\u001b[0m \u001b[38;5;124;03m\"\"\"\u001b[39;00m\n\u001b[0;32m    457\u001b[0m FigureCanvasAgg\u001b[38;5;241m.\u001b[39mdraw(\u001b[38;5;28mself\u001b[39m)\n\u001b[1;32m--> 458\u001b[0m mpl\u001b[38;5;241m.\u001b[39mimage\u001b[38;5;241m.\u001b[39mimsave(\n\u001b[0;32m    459\u001b[0m     filename_or_obj, \u001b[38;5;28mself\u001b[39m\u001b[38;5;241m.\u001b[39mbuffer_rgba(), \u001b[38;5;28mformat\u001b[39m\u001b[38;5;241m=\u001b[39mfmt, origin\u001b[38;5;241m=\u001b[39m\u001b[38;5;124m\"\u001b[39m\u001b[38;5;124mupper\u001b[39m\u001b[38;5;124m\"\u001b[39m,\n\u001b[0;32m    460\u001b[0m     dpi\u001b[38;5;241m=\u001b[39m\u001b[38;5;28mself\u001b[39m\u001b[38;5;241m.\u001b[39mfigure\u001b[38;5;241m.\u001b[39mdpi, metadata\u001b[38;5;241m=\u001b[39mmetadata, pil_kwargs\u001b[38;5;241m=\u001b[39mpil_kwargs)\n",
      "File \u001b[1;32mc:\\Users\\admin\\anaconda3\\Lib\\site-packages\\matplotlib\\image.py:1689\u001b[0m, in \u001b[0;36mimsave\u001b[1;34m(fname, arr, vmin, vmax, cmap, format, origin, dpi, metadata, pil_kwargs)\u001b[0m\n\u001b[0;32m   1687\u001b[0m pil_kwargs\u001b[38;5;241m.\u001b[39msetdefault(\u001b[38;5;124m\"\u001b[39m\u001b[38;5;124mformat\u001b[39m\u001b[38;5;124m\"\u001b[39m, \u001b[38;5;28mformat\u001b[39m)\n\u001b[0;32m   1688\u001b[0m pil_kwargs\u001b[38;5;241m.\u001b[39msetdefault(\u001b[38;5;124m\"\u001b[39m\u001b[38;5;124mdpi\u001b[39m\u001b[38;5;124m\"\u001b[39m, (dpi, dpi))\n\u001b[1;32m-> 1689\u001b[0m image\u001b[38;5;241m.\u001b[39msave(fname, \u001b[38;5;241m*\u001b[39m\u001b[38;5;241m*\u001b[39mpil_kwargs)\n",
      "File \u001b[1;32mc:\\Users\\admin\\anaconda3\\Lib\\site-packages\\PIL\\Image.py:2439\u001b[0m, in \u001b[0;36mImage.save\u001b[1;34m(self, fp, format, **params)\u001b[0m\n\u001b[0;32m   2436\u001b[0m         fp \u001b[38;5;241m=\u001b[39m builtins\u001b[38;5;241m.\u001b[39mopen(filename, \u001b[38;5;124m\"\u001b[39m\u001b[38;5;124mw+b\u001b[39m\u001b[38;5;124m\"\u001b[39m)\n\u001b[0;32m   2438\u001b[0m \u001b[38;5;28;01mtry\u001b[39;00m:\n\u001b[1;32m-> 2439\u001b[0m     save_handler(\u001b[38;5;28mself\u001b[39m, fp, filename)\n\u001b[0;32m   2440\u001b[0m \u001b[38;5;28;01mexcept\u001b[39;00m \u001b[38;5;167;01mException\u001b[39;00m:\n\u001b[0;32m   2441\u001b[0m     \u001b[38;5;28;01mif\u001b[39;00m open_fp:\n",
      "File \u001b[1;32mc:\\Users\\admin\\anaconda3\\Lib\\site-packages\\PIL\\PngImagePlugin.py:1402\u001b[0m, in \u001b[0;36m_save\u001b[1;34m(im, fp, filename, chunk, save_all)\u001b[0m\n\u001b[0;32m   1398\u001b[0m     im \u001b[38;5;241m=\u001b[39m _write_multiple_frames(\n\u001b[0;32m   1399\u001b[0m         im, fp, chunk, rawmode, default_image, append_images\n\u001b[0;32m   1400\u001b[0m     )\n\u001b[0;32m   1401\u001b[0m \u001b[38;5;28;01mif\u001b[39;00m im:\n\u001b[1;32m-> 1402\u001b[0m     ImageFile\u001b[38;5;241m.\u001b[39m_save(im, _idat(fp, chunk), [(\u001b[38;5;124m\"\u001b[39m\u001b[38;5;124mzip\u001b[39m\u001b[38;5;124m\"\u001b[39m, (\u001b[38;5;241m0\u001b[39m, \u001b[38;5;241m0\u001b[39m) \u001b[38;5;241m+\u001b[39m im\u001b[38;5;241m.\u001b[39msize, \u001b[38;5;241m0\u001b[39m, rawmode)])\n\u001b[0;32m   1404\u001b[0m \u001b[38;5;28;01mif\u001b[39;00m info:\n\u001b[0;32m   1405\u001b[0m     \u001b[38;5;28;01mfor\u001b[39;00m info_chunk \u001b[38;5;129;01min\u001b[39;00m info\u001b[38;5;241m.\u001b[39mchunks:\n",
      "File \u001b[1;32mc:\\Users\\admin\\anaconda3\\Lib\\site-packages\\PIL\\ImageFile.py:540\u001b[0m, in \u001b[0;36m_save\u001b[1;34m(im, fp, tile, bufsize)\u001b[0m\n\u001b[0;32m    538\u001b[0m     _encode_tile(im, fp, tile, bufsize, fh)\n\u001b[0;32m    539\u001b[0m \u001b[38;5;28;01mexcept\u001b[39;00m (\u001b[38;5;167;01mAttributeError\u001b[39;00m, io\u001b[38;5;241m.\u001b[39mUnsupportedOperation) \u001b[38;5;28;01mas\u001b[39;00m exc:\n\u001b[1;32m--> 540\u001b[0m     _encode_tile(im, fp, tile, bufsize, \u001b[38;5;28;01mNone\u001b[39;00m, exc)\n\u001b[0;32m    541\u001b[0m \u001b[38;5;28;01mif\u001b[39;00m \u001b[38;5;28mhasattr\u001b[39m(fp, \u001b[38;5;124m\"\u001b[39m\u001b[38;5;124mflush\u001b[39m\u001b[38;5;124m\"\u001b[39m):\n\u001b[0;32m    542\u001b[0m     fp\u001b[38;5;241m.\u001b[39mflush()\n",
      "File \u001b[1;32mc:\\Users\\admin\\anaconda3\\Lib\\site-packages\\PIL\\ImageFile.py:559\u001b[0m, in \u001b[0;36m_encode_tile\u001b[1;34m(im, fp, tile, bufsize, fh, exc)\u001b[0m\n\u001b[0;32m    556\u001b[0m \u001b[38;5;28;01mif\u001b[39;00m exc:\n\u001b[0;32m    557\u001b[0m     \u001b[38;5;66;03m# compress to Python file-compatible object\u001b[39;00m\n\u001b[0;32m    558\u001b[0m     \u001b[38;5;28;01mwhile\u001b[39;00m \u001b[38;5;28;01mTrue\u001b[39;00m:\n\u001b[1;32m--> 559\u001b[0m         errcode, data \u001b[38;5;241m=\u001b[39m encoder\u001b[38;5;241m.\u001b[39mencode(bufsize)[\u001b[38;5;241m1\u001b[39m:]\n\u001b[0;32m    560\u001b[0m         fp\u001b[38;5;241m.\u001b[39mwrite(data)\n\u001b[0;32m    561\u001b[0m         \u001b[38;5;28;01mif\u001b[39;00m errcode:\n",
      "\u001b[1;31mKeyboardInterrupt\u001b[0m: "
     ]
    }
   ],
   "source": [
    "# run this to test your implementation\n",
    "print(\"Testing Best-First Search\")\n",
    "test_on_maze(BestFirstSearch)"
   ]
  },
  {
   "cell_type": "markdown",
   "metadata": {
    "pycharm": {
     "name": "#%% md\n"
    },
    "tags": []
   },
   "source": [
    "## Pseudocode for function SelectAndMoveFromOpenList in AStar Search\n",
    "\n",
    "<div style=\"background:#F0FFFF\">\n",
    "<p style=\"color:darkred;margin-bottom:0pt\"><em>SelectAndMoveFromOpenList</em></p>\n",
    "<dl style=\"margin-top:0pt\">\n",
    "    <dt>&nbsp;&nbsp;&nbsp;<b>IF</b> IsEmpty( open_list) <b>THEN</b> </dt>\n",
    "    <dd> RETURN None</dd>\n",
    "    <dt> &nbsp;&nbsp;&nbsp;<b>ELSE</b></dt>\n",
    "    <dd><span style=\"background:pink\">AStar picks using sum of quality +cost</span></dd>\n",
    "    <dd>bestChild &larr; <b>GetMemberWithHighestCombinedScore</b>(openList)</dd>\n",
    "    <dd> RETURN bestChild&nbsp;&nbsp;&nbsp;&nbsp;</dd>\n",
    "</dl>\n",
    "</div>   \n",
    "<div style=\"background:white\"> <h3>Note that</h3><ul>\n",
    "    <li>This is just like best-first with a modified selection.</li>\n",
    "    <li> To make more efficient you can track <i>bestSoFar</i> and modify <b>UpdateWorkingMemory()</b><br>\n",
    "        so it doesn't put things on the openlist if depth > bestSoFar </li></ul>  </div> "
   ]
  },
  {
   "cell_type": "code",
   "execution_count": null,
   "metadata": {
    "pycharm": {
     "name": "#%%\n"
    }
   },
   "outputs": [],
   "source": [
    "class AStarSearch(SingleMemberSearch):\n",
    "    \"\"\"Implementation of A Star  search.\n",
    "    You need to complete this\n",
    "    \"\"\"\n",
    "\n",
    "    def __str__(self):\n",
    "        return \"A Star\"\n",
    "\n",
    "    def select_and_move_from_openlist(self) -> CandidateSolution:\n",
    "        \"\"\"Implements AStar by finding, popping and returning member from openlist\n",
    "        with lowest combined length+quality.\n",
    "\n",
    "        Returns\n",
    "        -------\n",
    "        next working candidate (solution) taken from open list\n",
    "        \"\"\"\n",
    "        next_soln = CandidateSolution()\n",
    "        # ====> Your Code here <========\n",
    "        # Start by copy in pseudo-code\n",
    "        # then code to it\n",
    "        # mske sure you have read the specifications and hints above\n",
    "\n",
    "        return next_soln"
   ]
  },
  {
   "cell_type": "code",
   "execution_count": null,
   "metadata": {
    "pycharm": {
     "name": "#%%\n"
    },
    "tags": []
   },
   "outputs": [],
   "source": [
    "# run. this to test your A Starprint('Testing Breadth-First Search')\n",
    "test_on_maze(AStarSearch)"
   ]
  },
  {
   "cell_type": "markdown",
   "metadata": {
    "pycharm": {
     "name": "#%% md\n"
    }
   },
   "source": [
    "<div class=\"alert alert-warning\" style=\"color:black\">\n",
    "    <h1> Activity 3: Testing your understanding</h1>\n",
    "    <h2> 20 marks</h2>\n",
    "    Run the cell below and answer the questions then press the <b>check</b> button to check your answers. <br>\n",
    "    When you submit your jupyter notebook for automated marking via blackboard, <br>\n",
    "    there will be similar questions for you to answer online.\n",
    "    </div>\n",
    "    \n",
    "\n",
    "     "
   ]
  },
  {
   "cell_type": "code",
   "execution_count": null,
   "metadata": {
    "pycharm": {
     "name": "#%%\n"
    }
   },
   "outputs": [],
   "source": [
    "import workbook3_utils as wb3\n",
    "\n",
    "reload(wb3)\n",
    "display(wb3.Q1)\n",
    "display(wb3.Q2)\n",
    "display(wb3.Q3)\n",
    "display(wb3.Q4)\n",
    "display(wb3.Q5)\n",
    "display(wb3.Q6)\n",
    "display(wb3.Q7)\n",
    "display(wb3.Q8)"
   ]
  },
  {
   "cell_type": "markdown",
   "metadata": {
    "pycharm": {
     "name": "#%% md\n"
    }
   },
   "source": [
    "<div class=\"alert alert-warning\" style=\"color:black\">\n",
    "    <h2> Activity 4: Testing your understanding by creating new instances to <it>break</it> algorithms</h2>\n",
    "    <h3> 10 Marks</h3>\n",
    "    <p> The cells below illustrate how to create a new instances of the path-finding problem by changing walls into paths or vice-versa.</p>\n",
    "    <p> The fourth cell also shows how to save an edited maze to file and then checks it load properly</p>\n",
    "    <p><b> Experiment with creating new mazes then:</b></p>\n",
    "    <ol>\n",
    "        <li> Create a maze in which depth-first search gets stuck in a loop<br>\n",
    "            and save your new maze to file called <i>maze-loop.txt</i> </li>\n",
    "        <li> Create a maze in which breadth-first search finds the goals in fewer trials than depth-first<br>\n",
    "            and save this to file <i>maze-odd.txt</i></li>\n",
    "    </ol>\n",
    "    </div>\n",
    "     "
   ]
  },
  {
   "cell_type": "code",
   "execution_count": null,
   "metadata": {
    "pycharm": {
     "name": "#%%\n"
    }
   },
   "outputs": [],
   "source": [
    "original = Maze(mazefile=\"maze.txt\")\n",
    "original.show_maze()\n",
    "search1 = DepthFirstSearch(original, constructive=True, max_attempts=1500)\n",
    "search1.run_search()\n",
    "print(\"first plot shows the initial maze\")\n",
    "print(\n",
    "    (\n",
    "        f\"{search1.__str__()} took {search1.trials} \"\n",
    "        f\"to find. solution of {len(search1.result)} moves\"\n",
    "    )\n",
    ")"
   ]
  },
  {
   "cell_type": "code",
   "execution_count": null,
   "metadata": {
    "pycharm": {
     "name": "#%%\n"
    }
   },
   "outputs": [],
   "source": [
    "# this is an example of how to make a hole in a wall\n",
    "# in this case underneath the entrance a few blocks down\n",
    "# the first value is for the row of the cell to change, the second for the column\n",
    "hole_in_wall = Maze(mazefile=\"maze.txt\")\n",
    "hole_in_wall.contents[8][10] = 1\n",
    "hole_in_wall.show_maze()\n",
    "\n",
    "search2 = DepthFirstSearch(hole_in_wall, constructive=True, max_attempts=1500)\n",
    "found = search2.run_search()\n",
    "print(\"second plot shows removing a wall cell\")\n",
    "if found:\n",
    "    print(\n",
    "        (\n",
    "            f\"{search2.__str__()} took {search2.trials} trials \"\n",
    "            f\"to find. solution of {len(search2.result)} moves\"\n",
    "        )\n",
    "    )\n",
    "else:\n",
    "    print(\"{search2.__str__()} search ran out of time\")"
   ]
  },
  {
   "cell_type": "code",
   "execution_count": null,
   "metadata": {
    "pycharm": {
     "name": "#%%\n"
    }
   },
   "outputs": [],
   "source": [
    "# and this turns a path into a wall\n",
    "new_wall = Maze(mazefile=\"maze.txt\")\n",
    "new_wall.contents[19][16] = 0\n",
    "new_wall.show_maze()\n",
    "\n",
    "search3 = DepthFirstSearch(new_wall, constructive=True, max_attempts=1500)\n",
    "search3.run_search()\n",
    "print(\"third plot shows creating a new wall cell near the bottom right\")\n",
    "print(\n",
    "    (\n",
    "        f\"{search3.__str__()} took {search3.trials} trials \"\n",
    "        f\"to find. solution of {len(search3.result)} moves\"\n",
    "    )\n",
    ")"
   ]
  },
  {
   "cell_type": "code",
   "execution_count": null,
   "metadata": {
    "pycharm": {
     "name": "#%%\n"
    }
   },
   "outputs": [],
   "source": [
    "# demonstration of saving edited maze and reloading\n",
    "reload(maze)\n",
    "from maze import Maze\n",
    "\n",
    "# load maze\n",
    "new_wall = Maze(mazefile=\"maze.txt\")\n",
    "\n",
    "# edit it\n",
    "new_wall.contents[19][16] = 0\n",
    "new_wall.show_maze()\n",
    "# save edited maze to new file\n",
    "new_wall.save_to_txt(\"maze-newwall.txt\")"
   ]
  },
  {
   "cell_type": "code",
   "execution_count": null,
   "metadata": {
    "pycharm": {
     "name": "#%%\n"
    }
   },
   "outputs": [],
   "source": [
    "# reload into new maze object\n",
    "reloaded_maze = Maze(mazefile=\"maze-newwall.txt\")\n",
    "# test they have the same contents\n",
    "assert reloaded_maze.contents == new_wall.contents\n",
    "print(\"the same\")"
   ]
  },
  {
   "cell_type": "markdown",
   "metadata": {
    "pycharm": {
     "name": "#%% md\n"
    }
   },
   "source": [
    "<div class=\"alert alert-block alert-danger\"> Please save your work (click the save icon) then shutdown the notebook when you have finished with this tutorial (menu->file->close and shutdown notebook</div>\n",
    "\n",
    "<div class=\"alert alert-block alert-danger\"> Remember to download and save your work if you are not running this notebook locally.</div>"
   ]
  }
 ],
 "metadata": {
  "kernelspec": {
   "display_name": "aienv",
   "language": "python",
   "name": "aienv"
  },
  "language_info": {
   "codemirror_mode": {
    "name": "ipython",
    "version": 3
   },
   "file_extension": ".py",
   "mimetype": "text/x-python",
   "name": "python",
   "nbconvert_exporter": "python",
   "pygments_lexer": "ipython3",
   "version": "3.11.6"
  }
 },
 "nbformat": 4,
 "nbformat_minor": 4
}
