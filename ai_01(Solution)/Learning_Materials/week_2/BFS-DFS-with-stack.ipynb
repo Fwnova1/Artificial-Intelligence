{
 "cells": [
  {
   "cell_type": "code",
   "execution_count": 6,
   "metadata": {
    "collapsed": false,
    "jupyter": {
     "outputs_hidden": false
    },
    "pycharm": {
     "name": "#%%\n"
    }
   },
   "outputs": [
    {
     "name": "stdout",
     "output_type": "stream",
     "text": [
      "Node 4\n"
     ]
    }
   ],
   "source": [
    "import numpy as np\n",
    "\n",
    "class Node:\n",
    "    def __init__(self, value, left = None, right=None):\n",
    "        self.value = value\n",
    "        self.left = left\n",
    "        self.right = right\n",
    "    def __str__(self):\n",
    "        return f\"Node {self.value}\"\n",
    "    \n",
    "n1 = Node(4, 2, 3)\n",
    "print(n1)"
   ]
  },
  {
   "cell_type": "markdown",
   "metadata": {},
   "source": []
  },
  {
   "cell_type": "markdown",
   "metadata": {
    "collapsed": false,
    "pycharm": {
     "name": "#%% md\n"
    }
   },
   "source": [
    "# Depth-First Search\n",
    "#### https://skilled.dev/course/tree-traversal-in-order-pre-order-post-order\n",
    "#### https://www.youtube.com/watch?v=Sbciimd09h4\n",
    "#### https://www.youtube.com/watch?v=PMMc4VsIacU\n",
    "+ Using stack to handle data structure --> Last in First out"
   ]
  },
  {
   "cell_type": "code",
   "execution_count": 7,
   "metadata": {
    "collapsed": false,
    "pycharm": {
     "name": "#%%\n"
    }
   },
   "outputs": [],
   "source": [
    "\n",
    "def walk_pre_order(tree):\n",
    "    # Pre-order DFS : Visit and process its node immediately.\n",
    "    if tree is not None:\n",
    "        print(tree)\n",
    "        walk_pre_order(tree.left)\n",
    "        walk_pre_order(tree.right)\n",
    "\n",
    "def walk_in_order(tree):\n",
    "    # Pre-order DFS : Visit all child of current node and process from bottom up\n",
    "    if tree is not None:\n",
    "        walk_in_order(tree.left)\n",
    "        print(tree)\n",
    "        walk_in_order(tree.right)\n",
    "\n",
    "def walk_post_order(tree):\n",
    "    # Pre-order DFS : Visit all children of node and process before visit node itself\n",
    "    if tree is not None:\n",
    "        walk_post_order(tree.left)\n",
    "        walk_post_order(tree.right)\n",
    "        print(tree)\n",
    "\n",
    "def walk_iterative(tree, stack):\n",
    "    stack.append(tree)\n",
    "    while len(stack) > 0:\n",
    "        node = stack.pop()\n",
    "        if node is not None:\n",
    "            print(node)\n",
    "            stack.append(node.right)    # Reverse order, since this is stack (left will be taken out first then right)\n",
    "            stack.append(node.left)"
   ]
  },
  {
   "cell_type": "code",
   "execution_count": 8,
   "metadata": {
    "collapsed": false,
    "pycharm": {
     "name": "#%%\n"
    }
   },
   "outputs": [
    {
     "name": "stdout",
     "output_type": "stream",
     "text": [
      "Node A\n",
      "Node B\n",
      "Node C\n",
      "Node D\n",
      "Node G\n"
     ]
    }
   ],
   "source": [
    "mytree = Node(\"A\", left = Node(\"B\", left = Node(\"D\"), right = Node(\"E\")), \n",
    "              right = Node(\"C\", left = Node(\"F\"), right = Node(\"G\"))) \n",
    "print(mytree)\n",
    "print(mytree.left)\n",
    "print(mytree.right)\n",
    "print(mytree.left.left)\n",
    "print(mytree.right.right)"
   ]
  },
  {
   "cell_type": "code",
   "execution_count": 9,
   "metadata": {
    "collapsed": false,
    "pycharm": {
     "name": "#%%\n"
    }
   },
   "outputs": [
    {
     "name": "stdout",
     "output_type": "stream",
     "text": [
      "Node A\n",
      "Node B\n",
      "Node D\n",
      "Node E\n",
      "Node C\n",
      "Node F\n",
      "Node G\n"
     ]
    }
   ],
   "source": [
    "walk_pre_order(mytree)"
   ]
  },
  {
   "cell_type": "code",
   "execution_count": 10,
   "metadata": {
    "collapsed": false,
    "pycharm": {
     "name": "#%%\n"
    }
   },
   "outputs": [
    {
     "name": "stdout",
     "output_type": "stream",
     "text": [
      "Node D\n",
      "Node B\n",
      "Node E\n",
      "Node A\n",
      "Node F\n",
      "Node C\n",
      "Node G\n"
     ]
    }
   ],
   "source": [
    "walk_in_order(mytree)"
   ]
  },
  {
   "cell_type": "code",
   "execution_count": 11,
   "metadata": {
    "collapsed": false,
    "pycharm": {
     "name": "#%%\n"
    }
   },
   "outputs": [
    {
     "name": "stdout",
     "output_type": "stream",
     "text": [
      "Node D\n",
      "Node E\n",
      "Node B\n",
      "Node F\n",
      "Node G\n",
      "Node C\n",
      "Node A\n"
     ]
    }
   ],
   "source": [
    "walk_post_order(mytree)"
   ]
  },
  {
   "cell_type": "code",
   "execution_count": 12,
   "metadata": {
    "collapsed": false,
    "pycharm": {
     "name": "#%%\n"
    }
   },
   "outputs": [
    {
     "name": "stdout",
     "output_type": "stream",
     "text": [
      "Node A\n",
      "Node B\n",
      "Node D\n",
      "Node E\n",
      "Node C\n",
      "Node F\n",
      "Node G\n"
     ]
    }
   ],
   "source": [
    "walk_iterative(mytree, stack=[])"
   ]
  },
  {
   "cell_type": "markdown",
   "metadata": {
    "collapsed": false,
    "pycharm": {
     "name": "#%% md\n"
    }
   },
   "source": [
    "# Breadth-First Search\n",
    "#### https://www.youtube.com/watch?v=POpkdEdmlbU\n",
    "#### https://skilled.dev/course/tree-traversal-in-order-pre-order-post-order\n",
    "#### https://www.youtube.com/watch?v=xlVX7dXLS64\n",
    "+ Using queue to handle data structure --> First in First out"
   ]
  },
  {
   "cell_type": "code",
   "execution_count": 13,
   "metadata": {
    "collapsed": false,
    "pycharm": {
     "name": "#%%\n"
    }
   },
   "outputs": [],
   "source": [
    "def bfs(node, queue):\n",
    "    queue.append(node)\n",
    "    while len(queue) > 0:\n",
    "        node = queue.pop(0)\n",
    "        if node is not None:\n",
    "            print(node)\n",
    "            queue.append(node.left)\n",
    "            queue.append(node.right)"
   ]
  },
  {
   "cell_type": "code",
   "execution_count": 14,
   "metadata": {
    "collapsed": false,
    "pycharm": {
     "name": "#%%\n"
    }
   },
   "outputs": [
    {
     "name": "stdout",
     "output_type": "stream",
     "text": [
      "Node A\n",
      "Node B\n",
      "Node C\n",
      "Node D\n",
      "Node E\n",
      "Node F\n",
      "Node G\n"
     ]
    }
   ],
   "source": [
    "bfs(mytree, queue=[])"
   ]
  },
  {
   "cell_type": "code",
   "execution_count": null,
   "metadata": {
    "collapsed": false,
    "pycharm": {
     "name": "#%%\n"
    }
   },
   "outputs": [],
   "source": []
  },
  {
   "cell_type": "markdown",
   "metadata": {
    "collapsed": false,
    "jupyter": {
     "outputs_hidden": false
    },
    "pycharm": {
     "name": "#%% md\n"
    }
   },
   "source": [
    "# Breadth-First Search\n",
    "#### https://www.youtube.com/watch?v=POpkdEdmlbU\n",
    "#### https://skilled.dev/course/tree-traversal-in-order-pre-order-post-order\n",
    "#### https://www.youtube.com/watch?v=xlVX7dXLS64\n",
    "+ Using queue to handle data structure --> First in First out"
   ]
  },
  {
   "cell_type": "code",
   "execution_count": 15,
   "metadata": {
    "collapsed": false,
    "jupyter": {
     "outputs_hidden": false
    },
    "pycharm": {
     "name": "#%%\n"
    }
   },
   "outputs": [],
   "source": [
    "def bfs(node, queue):\n",
    "    queue.append(node)\n",
    "    while len(queue) > 0:\n",
    "        node = queue.pop(0)\n",
    "        if node is not None:\n",
    "            print(node)\n",
    "            queue.append(node.left)\n",
    "            queue.append(node.right)"
   ]
  },
  {
   "cell_type": "code",
   "execution_count": 16,
   "metadata": {
    "collapsed": false,
    "jupyter": {
     "outputs_hidden": false
    },
    "pycharm": {
     "name": "#%%\n"
    }
   },
   "outputs": [
    {
     "name": "stdout",
     "output_type": "stream",
     "text": [
      "Node A\n",
      "Node B\n",
      "Node C\n",
      "Node D\n",
      "Node E\n",
      "Node F\n",
      "Node G\n"
     ]
    }
   ],
   "source": [
    "bfs(mytree, queue=[])"
   ]
  },
  {
   "cell_type": "code",
   "execution_count": null,
   "metadata": {
    "collapsed": false,
    "jupyter": {
     "outputs_hidden": false
    },
    "pycharm": {
     "name": "#%%\n"
    }
   },
   "outputs": [],
   "source": []
  },
  {
   "cell_type": "markdown",
   "metadata": {},
   "source": [
    "# Breadth-First Search\n",
    "#### https://www.youtube.com/watch?v=POpkdEdmlbU\n",
    "#### https://skilled.dev/course/tree-traversal-in-order-pre-order-post-order\n",
    "+ Using queue to handle data structure --> First in First out"
   ]
  },
  {
   "cell_type": "code",
   "execution_count": 17,
   "metadata": {},
   "outputs": [],
   "source": [
    "def bfs(node, queue):\n",
    "    queue.append(node)\n",
    "    while len(queue) > 0:\n",
    "        node = queue.pop(0)\n",
    "        if node is not None:\n",
    "            print(node)\n",
    "            queue.append(node.left)\n",
    "            queue.append(node.right)"
   ]
  },
  {
   "cell_type": "code",
   "execution_count": 18,
   "metadata": {},
   "outputs": [
    {
     "name": "stdout",
     "output_type": "stream",
     "text": [
      "Node A\n",
      "Node B\n",
      "Node C\n",
      "Node D\n",
      "Node E\n",
      "Node F\n",
      "Node G\n"
     ]
    }
   ],
   "source": [
    "bfs(mytree, queue=[])"
   ]
  },
  {
   "cell_type": "code",
   "execution_count": null,
   "metadata": {},
   "outputs": [],
   "source": []
  },
  {
   "cell_type": "code",
   "execution_count": null,
   "metadata": {},
   "outputs": [],
   "source": []
  }
 ],
 "metadata": {
  "kernelspec": {
   "display_name": "Python 3 (ipykernel)",
   "language": "python",
   "name": "python3"
  },
  "language_info": {
   "codemirror_mode": {
    "name": "ipython",
    "version": 3
   },
   "file_extension": ".py",
   "mimetype": "text/x-python",
   "name": "python",
   "nbconvert_exporter": "python",
   "pygments_lexer": "ipython3",
   "version": "3.11.5"
  }
 },
 "nbformat": 4,
 "nbformat_minor": 4
}
